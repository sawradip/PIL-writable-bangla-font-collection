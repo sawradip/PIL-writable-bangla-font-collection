{
 "cells": [
  {
   "cell_type": "code",
   "execution_count": 8,
   "metadata": {},
   "outputs": [
    {
     "data": {
      "image/jpeg": "[encoded data removed]",
      "image/png": "[encoded data removed]",
      "text/plain": [
       "<PIL.Image.Image image mode=L size=191x57>"
      ]
     },
     "metadata": {},
     "output_type": "display_data"
    }
   ],
   "source": [
    "from PIL import ImageFont, Image, ImageDraw, ImageChops, ImageOps\n",
    "from IPython.display import display\n",
    "\n",
    "w, h = 64, 64\n",
    "w0, h0 = 256, 256\n",
    "blank = Image.new('L', (w0 * 5, h0 * 3), 255)\n",
    "font = 'fonts/FN Suhrid Bornobilas Unicode.ttf'\n",
    "font = ImageFont.truetype(font, 20)  \n",
    "char = 'দৃষ্টিভঙ্গি নির্লজ্জ '\n",
    "img = Image.new(\"L\", (w0 * 5, h0 * 3), 255) \n",
    "draw = ImageDraw.Draw(img)\n",
    "draw.text((w0, h0), char, font=font)\n",
    "diff = ImageChops.difference(img, blank)\n",
    "lx, ly, hx, hy = diff.getbbox()\n",
    "img = img.crop((lx, ly, hx, hy))\n",
    "# img.save('image' + '.png')\n",
    "display(img)"
   ]
  },
  {
   "cell_type": "code",
   "execution_count": 2,
   "metadata": {},
   "outputs": [],
   "source": [
    "import os\n",
    "\n",
    "def get_image(font_path):\n",
    "    w, h = 64, 64\n",
    "    w0, h0 = 256, 256\n",
    "    blank = Image.new('L', (w0 * 5, h0 * 3), 255)\n",
    "    font = font_path #'FN Suhrid Bornobilas Unicode.ttf'\n",
    "    font = ImageFont.truetype(font, 20)  \n",
    "    char = 'গ্রন্থাগারের নীরব পরিবেশে, সঞ্চালিত নির্লজ্জ আলোচনাটি অতি মনোমুগ্ধকর দৃষ্টিভঙ্গি ছিল।'\n",
    "    img = Image.new(\"L\", (w0 * 5, h0 * 3), 255) \n",
    "    draw = ImageDraw.Draw(img)\n",
    "    draw.text((w0, h0), char, font=font)\n",
    "    diff = ImageChops.difference(img, blank)\n",
    "    lx, ly, hx, hy = diff.getbbox()\n",
    "    img = img.crop((lx, ly, hx, hy))\n",
    "    # img.save('image' + '.png')\n",
    "    # display(img)\n",
    "    # pass\n",
    "    return img"
   ]
  },
  {
   "cell_type": "code",
   "execution_count": 7,
   "metadata": {},
   "outputs": [],
   "source": [
    "import os\n",
    "from PIL import Image\n",
    "\n",
    "# Ensure the images directory exists\n",
    "os.makedirs('images', exist_ok=True)\n",
    "\n",
    "# List of all font files in the fonts directory\n",
    "font_files = [f for f in os.listdir('./fonts') if os.path.isfile(os.path.join('./fonts', f))]\n",
    "\n",
    "# Start of the markdown content for README\n",
    "readme_content = \"<h1>Font Preview Gallery</h1>\\n\\n<p>This gallery showcases images generated with different fonts.</p>\\n\\n\"\n",
    "\n",
    "# Process each font\n",
    "for i, font_file in enumerate(font_files):\n",
    "    font_path = os.path.join('./fonts', font_file)\n",
    "    image = get_image(font_path)\n",
    "    image_name = os.path.splitext(font_file)[0] + '.png'\n",
    "    image_path = os.path.join('images', image_name)\n",
    "    image.save(image_path)\n",
    "\n",
    "    # Add entry to the markdown content using HTML\n",
    "    readme_content += f\"<h2>{i+1}. {font_file}</h2>\\n\"\n",
    "    readme_content += f\"<img src=\\\"{image_path}\\\" alt=\\\"{font_file}\\\" />\\n\\n\"\n",
    "\n",
    "# Write the markdown content to README.md\n",
    "with open('README.md', 'w') as readme_file:\n",
    "    readme_file.write(readme_content)"
   ]
  },
  {
   "cell_type": "code",
   "execution_count": null,
   "metadata": {},
   "outputs": [],
   "source": []
  }
 ],
 "metadata": {
  "kernelspec": {
   "display_name": "venv",
   "language": "python",
   "name": "python3"
  },
  "language_info": {
   "codemirror_mode": {
    "name": "ipython",
    "version": 3
   },
   "file_extension": ".py",
   "mimetype": "text/x-python",
   "name": "python",
   "nbconvert_exporter": "python",
   "pygments_lexer": "ipython3",
   "version": "3.10.14"
  }
 },
 "nbformat": 4,
 "nbformat_minor": 2
}
