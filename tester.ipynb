{
 "cells": [
  {
   "cell_type": "code",
   "execution_count": null,
   "metadata": {},
   "outputs": [],
   "source": [
    "from PIL import ImageFont, Image, ImageDraw, ImageChops, ImageOps\n",
    "\n",
    "w, h = 64, 64\n",
    "w0, h0 = 256, 256\n",
    "blank = Image.new('L', (w0 * 5, h0 * 3), 255)\n",
    "font = '/home/ubuntu/sawradip/OCR-DataGen/TextRecognitionDataGenerator/trdg/fonts/bn/Kalpurush-Regular.ttf'\n",
    "font = ImageFont.truetype(font, 20)  \n",
    "char = 'দৃষ্টিভঙ্গি নির্লজ্জ'\n",
    "img = Image.new(\"L\", (w0 * 5, h0 * 3), 255) \n",
    "draw = ImageDraw.Draw(img)\n",
    "draw.text((w0, h0), char, font=font)\n",
    "diff = ImageChops.difference(img, blank)\n",
    "lx, ly, hx, hy = diff.getbbox()\n",
    "img = img.crop((lx, ly, hx, hy))\n",
    "img.save('image' + '.png')"
   ]
  }
 ],
 "metadata": {
  "language_info": {
   "name": "python"
  }
 },
 "nbformat": 4,
 "nbformat_minor": 2
}
